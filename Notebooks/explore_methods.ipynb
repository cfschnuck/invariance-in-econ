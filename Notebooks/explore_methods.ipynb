{
 "cells": [
  {
   "cell_type": "code",
   "execution_count": 26,
   "metadata": {},
   "outputs": [],
   "source": [
    "import torch\n",
    "from sklearn.linear_model import LinearRegression\n",
    "from sklearn.neural_network import MLPClassifier"
   ]
  },
  {
   "cell_type": "code",
   "execution_count": 15,
   "metadata": {},
   "outputs": [],
   "source": [
    "PATH_DATASET = \"/Users/carina/Documents/Uni/ETH/Semester3/RBJ/Invariances/invariance-in-econ/Data/Preprocessed/Simulation/\""
   ]
  },
  {
   "cell_type": "markdown",
   "metadata": {},
   "source": [
    "Simple OLS Regression"
   ]
  },
  {
   "cell_type": "code",
   "execution_count": 27,
   "metadata": {},
   "outputs": [],
   "source": [
    "Y_a_train = torch.load(PATH_DATASET + \"Y\" + \"_\" + \"a\" + \"_\" + \"train\").cpu().numpy()\n",
    "D_a_train = torch.load(PATH_DATASET + \"D\" + \"_\" + \"a\" + \"_\" + \"train\").cpu().numpy()\n",
    "X_a_train = torch.load(PATH_DATASET + \"X\" + \"_\" + \"a\" + \"_\" + \"train\").cpu().numpy()\n",
    "Y_b_train = torch.load(PATH_DATASET + \"Y\" + \"_\" + \"b\" + \"_\" + \"train\").cpu().numpy()\n",
    "D_b_train = torch.load(PATH_DATASET + \"D\" + \"_\" + \"b\" + \"_\" + \"train\").cpu().numpy()\n",
    "X_b_train = torch.load(PATH_DATASET + \"X\" + \"_\" + \"b\" + \"_\" + \"train\").cpu().numpy()"
   ]
  },
  {
   "cell_type": "code",
   "execution_count": 28,
   "metadata": {},
   "outputs": [],
   "source": [
    "reg_a = LinearRegression().fit(D_a_train, Y_a_train)\n",
    "reg_b = LinearRegression().fit(D_b_train, Y_b_train)"
   ]
  },
  {
   "cell_type": "code",
   "execution_count": 24,
   "metadata": {},
   "outputs": [
    {
     "output_type": "execute_result",
     "data": {
      "text/plain": "array([[0.88501537]], dtype=float32)"
     },
     "metadata": {},
     "execution_count": 24
    }
   ],
   "source": [
    "print(reg_a.coef_, reg_b.coef_ )"
   ]
  },
  {
   "cell_type": "markdown",
   "metadata": {},
   "source": [
    "MLP"
   ]
  },
  {
   "cell_type": "code",
   "execution_count": null,
   "metadata": {},
   "outputs": [],
   "source": [
    "mlp_d = MLPClassifier((5,3)).fit(X_train, D_train)\n",
    "mlp_y = MLPClassifier((5,3)).fit(X_train, Y_train)\n"
   ]
  }
 ],
 "metadata": {
  "language_info": {
   "codemirror_mode": {
    "name": "ipython",
    "version": 3
   },
   "file_extension": ".py",
   "mimetype": "text/x-python",
   "name": "python",
   "nbconvert_exporter": "python",
   "pygments_lexer": "ipython3",
   "version": 3
  },
  "orig_nbformat": 2,
  "kernelspec": {
   "name": "python_defaultSpec_1608452619530",
   "display_name": "Python 3.7.9 64-bit"
  }
 },
 "nbformat": 4,
 "nbformat_minor": 2
}